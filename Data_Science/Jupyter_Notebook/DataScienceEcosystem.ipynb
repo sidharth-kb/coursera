{
 "cells": [
  {
   "cell_type": "markdown",
   "id": "7e8b9b65-736d-40b0-a0ff-51b1c098aefe",
   "metadata": {},
   "source": [
    "# Data Science Tools and Ecosystem"
   ]
  },
  {
   "cell_type": "markdown",
   "id": "9d3e7c98-5e7c-43d5-8172-9c889b76da26",
   "metadata": {},
   "source": [
    "In this notebook, Data Science Tools and Ecosystem are summarized."
   ]
  },
  {
   "cell_type": "markdown",
   "id": "1c6e67c7-0a5c-43b7-8f56-910acf843f45",
   "metadata": {},
   "source": [
    "Some of the popular languages that Data Scientists use are:\n",
    "\n",
    "1. python\n",
    "2. R\n",
    "3. Julia"
   ]
  },
  {
   "cell_type": "markdown",
   "id": "b138bbb0-fe08-4150-a756-144033838eb5",
   "metadata": {},
   "source": [
    "Some of the commonly used libraries are:\n",
    "\n",
    "1. Sci-kit\n",
    "2. Keras\n",
    "3. Pytorch\n",
    "4. Matplotlib\n",
    "5. Numpy\n",
    "6. Pandas"
   ]
  },
  {
   "cell_type": "markdown",
   "id": "8c080559-56da-4fd3-9a45-4fb07c6a728c",
   "metadata": {},
   "source": [
    "### Below are a few examples of evaluating arithmetic expressions in Python"
   ]
  },
  {
   "cell_type": "code",
   "execution_count": 1,
   "id": "b2dccee2-dee9-484b-8518-0394bc8f2051",
   "metadata": {},
   "outputs": [
    {
     "data": {
      "text/plain": [
       "17"
      ]
     },
     "execution_count": 1,
     "metadata": {},
     "output_type": "execute_result"
    }
   ],
   "source": [
    "# this is a a simple arithmetic expression to mutliply then add integers\n",
    "(3*4)+5"
   ]
  },
  {
   "cell_type": "code",
   "execution_count": 3,
   "id": "bf2be70b-ac0d-4ac2-bc91-e15f2405f096",
   "metadata": {},
   "outputs": [
    {
     "data": {
      "text/plain": [
       "3.3333333333333335"
      ]
     },
     "execution_count": 3,
     "metadata": {},
     "output_type": "execute_result"
    }
   ],
   "source": [
    "minutes = 200\n",
    "\n",
    "# This will convert 200 minutes to hours by dividing by 60\n",
    "hours = 200 / 60\n",
    "hours"
   ]
  },
  {
   "cell_type": "markdown",
   "id": "66a2d114-6e9c-466f-aa31-3803bc88d6a2",
   "metadata": {},
   "source": [
    "Objectives:\n",
    "\n",
    "- List popular languages\n",
    "- List commonly used libraries\n",
    "- Showcase markdown\n",
    "- Showcase python and running python"
   ]
  },
  {
   "cell_type": "markdown",
   "id": "71e82a08-2b51-4a0b-910c-7d9ec262224a",
   "metadata": {},
   "source": [
    "## Author\n",
    "\n",
    "Sidhu"
   ]
  }
 ],
 "metadata": {
  "kernelspec": {
   "display_name": "Python 3 (ipykernel)",
   "language": "python",
   "name": "python3"
  },
  "language_info": {
   "codemirror_mode": {
    "name": "ipython",
    "version": 3
   },
   "file_extension": ".py",
   "mimetype": "text/x-python",
   "name": "python",
   "nbconvert_exporter": "python",
   "pygments_lexer": "ipython3",
   "version": "3.13.2"
  }
 },
 "nbformat": 4,
 "nbformat_minor": 5
}
